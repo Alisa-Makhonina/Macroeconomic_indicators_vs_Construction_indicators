{
 "cells": [
  {
   "cell_type": "markdown",
   "id": "cc8b1827-69c8-4980-9dc2-57b5641dbbc5",
   "metadata": {},
   "source": [
    "*This study was conducted for skills demonstration purposes only*"
   ]
  },
  {
   "cell_type": "markdown",
   "id": "6289db03-55d7-40c7-8a20-7eefef2f6ff3",
   "metadata": {},
   "source": [
    "# **Forecasting the UK Construction Sector with Macroeconomic Indicators**\n",
    "# Section 1. Introduction"
   ]
  },
  {
   "cell_type": "markdown",
   "id": "34258024-8130-4c66-91c7-7ea95ad1840d",
   "metadata": {},
   "source": [
    "The construction industry plays a significant role in the UK economy and as part of the economy it is heavily influenced by general macroeconomic changes. This project investigates how changes in macroeconomic indicators such as GDP growth, interest rate, and inflation impact the UK construction sector, including construction output, material costs, number of companies.\n",
    "\n",
    "This research explores lagged relationships between macroeconomic indicators and construction performance. Using cross-correlation analysis, Granger causality tests, and predictive models such as lagged regression and VAR, the project aims to find predictive models that can help forecast future trends in the industry."
   ]
  },
  {
   "cell_type": "markdown",
   "id": "de185649-4dd0-43d6-9e8d-8f520eebdc79",
   "metadata": {},
   "source": [
    "## Literature Review / Context"
   ]
  },
  {
   "cell_type": "markdown",
   "id": "8d9d87c1-9921-4435-82cb-cade5682b25a",
   "metadata": {},
   "source": [
    "The construction sector is a significant driver of economic growth in the UK, contributing around 6–7% of GDP and employing over 2.5 million people. However, the industry is known to be highly cyclical, responding strongly to changes in macroeconomic conditions such as interest rates, GDP fluctuations, inflation, and broader business confidence.\n",
    "\n",
    "### Construction & the Macroeconomy\n",
    "Numerous studies have shown that construction activity closely follows the economic cycle. For example:\n",
    "\n",
    "- Giang & Pheng (2011) emphasize the construction sector’s dual role as both an economic driver and a follower—stimulating demand through infrastructure investment but also sensitive to financial and policy environments. <https://www.researchgate.net/publication/248524301_Role_of_construction_in_economic_development_Review_of_key_concepts_in_the_past_40_years>\n",
    "\n",
    "- Ruddock & Lopes (2006) found that GDP and interest rates are primary indicators influencing construction activity across developed economies.\n",
    "<https://www.tandfonline.com/doi/abs/10.1080/01446190500435218>\n",
    "\n",
    "- The UK Office for National Statistics (ONS) regularly reports that public and private construction projects are highly influenced by business investment levels, inflation expectations, and government fiscal policy. <https://www.ons.gov.uk/businessindustryandtrade/constructionindustry/bulletins/constructionoutputingreatbritain/march2025andnewordersjanuarytomarch2025>\n",
    "\n",
    "### Interest Rates & Construction Financing\n",
    "The cost of capital is a key determinant in construction planning. Higher interest rates tend to suppress new construction due to increased borrowing costs, especially in residential housing and commercial development. Conversely, low interest rates can stimulate investment and expand construction volume.\n",
    "Bank of England policy decisions (e.g., base rate changes) often have lagged effects on housing starts and building permits, typically seen within 3–6 months.\n",
    "\n",
    "### Inflation and Material Prices\n",
    "The construction industry is particularly vulnerable to cost inflation, as it relies heavily on raw materials like steel, timber, and concrete. These costs are affected by:\n",
    "- General inflation (CPI/RPI)\n",
    "- Commodity market fluctuations\n",
    "- Supply chain disruptions (e.g., Brexit, COVID-19)\n",
    "\n",
    "Increased material prices can delay or cancel projects, squeeze profit margins, and alter contract terms, especially in fixed-bid environments.\n",
    "\n",
    "### Time-Lag Effects and Predictive Modeling\n",
    "Several econometric and time-series studies have found that the impact of macroeconomic changes on construction often manifests with a lag:\n",
    "- Granger causality and distributed lag models have been used to determine predictive relationships between macro indicators and sectoral outcomes:\n",
    "    - <https://ascelibrary.org/doi/abs/10.1061/%28ASCE%29CO.1943-7862.0000714>\n",
    "    - <https://doczz.net/doc/8747147/quantifying-the-relationship-between-construction-cost-inflation-and-macroeconomic-variables>\n",
    "\n",
    "- ARIMAX and VAR models are common tools in economic forecasting, allowing analysts to account for both own-variable momentum and external predictors:\n",
    "    - <https://papers.ssrn.com/sol3/papers.cfm?abstract_id=3728117>\n",
    "    - <https://arxiv.org/abs/2303.15158>\n",
    "\n",
    "These techniques help uncover leading indicators for construction activity, supporting more informed decisions by firms, investors, and policymakers.\n",
    "\n",
    "## Research Gap\n",
    "While various macroeconomic relationships with construction have been explored individually, few studies focus specifically on:\n",
    "\n",
    "- Time-lagged predictive modeling of construction indicators using macro signals\n",
    "- UK-specific forecasting across both output volumes and material prices\n",
    "- Practical use of open data sources (ONS, BoE, BEIS) for near real-time forecasting in a portfolio-ready data science context.\n"
   ]
  },
  {
   "cell_type": "markdown",
   "id": "fe59a15a-f684-4475-9692-c325352f8a6f",
   "metadata": {},
   "source": [
    "## Research Questions"
   ]
  },
  {
   "cell_type": "markdown",
   "id": "9bb56d6c-6ebd-4372-ab48-9194151bb5b1",
   "metadata": {},
   "source": [
    "1. How do construction related variables (e.g., output, material costs, new contracts) correlate with economic indicators (e.g., GDP growth, interest rates, inflation, employment rates)?\n",
    "\n",
    "2. Can macroeconomic indicators predict construction trends?\n",
    "\n",
    "3. Do these macroeconomic indicators impact construction activity immediately, or with a time lag?\n",
    "<br> If so, what is the typical delay between an economic change and a response in construction output or material prices?\n",
    "\n",
    "4. Can macroeconomic indicators be used to accurately forecast future construction trends?\n",
    "<br> How effective are models such as lagged regression or VAR in making such predictions?\n",
    "\n",
    "5. How so-called 'black swans' (e.g., Brexit, COVID-19) influenced construction industry?"
   ]
  },
  {
   "cell_type": "markdown",
   "id": "83c2b675-ede3-4c44-9009-0e0259d10e12",
   "metadata": {},
   "source": [
    "### Authors"
   ]
  },
  {
   "cell_type": "markdown",
   "id": "62e3e21b-1b8a-49a1-b0c1-4e5197b3f014",
   "metadata": {},
   "source": [
    "[Alisa Makhonina](https://www.linkedin.com/in/alisa-makhonina-data-science/) Data scientist with over 8 years of experience in construction cost engineering. Structural Engineering graduate."
   ]
  }
 ],
 "metadata": {
  "kernelspec": {
   "display_name": "Python [conda env:base] *",
   "language": "python",
   "name": "conda-base-py"
  },
  "language_info": {
   "codemirror_mode": {
    "name": "ipython",
    "version": 3
   },
   "file_extension": ".py",
   "mimetype": "text/x-python",
   "name": "python",
   "nbconvert_exporter": "python",
   "pygments_lexer": "ipython3",
   "version": "3.13.5"
  }
 },
 "nbformat": 4,
 "nbformat_minor": 5
}
