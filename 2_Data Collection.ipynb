{
 "cells": [
  {
   "cell_type": "markdown",
   "id": "cc8b1827-69c8-4980-9dc2-57b5641dbbc5",
   "metadata": {},
   "source": [
    "*This study was conducted for skills demonstration purposes only*"
   ]
  },
  {
   "cell_type": "markdown",
   "id": "6289db03-55d7-40c7-8a20-7eefef2f6ff3",
   "metadata": {},
   "source": [
    "# **Forecasting the UK Construction Sector with Macroeconomic Indicators**\n",
    "# Section 2. Data Collection"
   ]
  },
  {
   "cell_type": "markdown",
   "id": "34258024-8130-4c66-91c7-7ea95ad1840d",
   "metadata": {},
   "source": [
    "The UK construction sector is a critical component of the national economy, influenced by macroeconomic indicators such as GDP growth, interest rates, and inflation. To investigate these relationships and develop predictive models, this project requires a reliable dataset, which includes both macroeconomic and construction-specific variables. I this section we will collect time-series data from 2005 to 2025, sourced from authoritative repositories like the Office for National Statistics (ONS), the Bank of England (BoE), and the Department for Business & Trade. The data collection process will involve gathering 12 key indicators, including Consumer Price Index (CPIH), GDP, employment rates, construction output, and material prices, at varying frequencies (annual, quarterly, monthly). Custom Python functions will be created to retrieve and process data in multiple formats (CSV, ODS, XLS). This phase together with the subsequent data preprocessing establishes the foundation for addressing the research questions by securing high-quality, reliable data for exploratory analysis and modeling."
   ]
  },
  {
   "attachments": {},
   "cell_type": "markdown",
   "id": "a716ab97-b5cb-44a5-a5a3-3807cd231a3b",
   "metadata": {},
   "source": [
    "### 1. Data Requirements and Data Sources\n",
    "\n",
    "We will collect time series data (2005–2025) on macroeconomic and construction sector indicators from official statistical sources.\n",
    "\n",
    "\n",
    "| N | **Indicators** | Frequency| Data Source | Link          |\n",
    "|--| ----------------------------------------------------- | -----| -----------| ---------------|\n",
    "||**Macroeconomic Indicators (independent variables)**\n",
    "|1| Consumer Price Index incl. housing (CPIH) / Inflation | annually, quarterly, monthly| Office for National Statistics (ONS) | [[1]](https://www.ons.gov.uk/economy/inflationandpriceindices/timeseries/l522/mm23) |\n",
    "|2| GDP growth rate (UK, real) |annually, quarterly| Office for National Statistics (ONS) | [[2]](https://www.ons.gov.uk/economy/grossdomesticproductgdp/timeseries/ybha/pn2) \n",
    "|3|Employment rate or unemployment rate|annually, quarterly, monthly| Office for National Statistics (ONS)|[[3]](https://www.ons.gov.uk/employmentandlabourmarket/peopleinwork/employmentandemployeetypes/timeseries/lf24/lms) |\n",
    "|4|Interest rate (Bank of England base rate)|monthly| Bank of England | [[4]](https://www.bankofengland.co.uk/boeapps/database/) |\n",
    "|5|Exchange rate (GBP/USD and GBP/EUR)|monthly| Bank of England | [[5]](https://www.bankofengland.co.uk/boeapps/database/) |\n",
    "|6|Business investment (gross fixed capital formation)| quarterly|Office for National Statistics (ONS) | [[6]](https://www.ons.gov.uk/economy/grossdomesticproductgdp/timeseries/kg7p/)|\n",
    "|7|Government spending|annually, quarterly, monthly| Office for National Statistics (ONS) | [[7]](https://www.ons.gov.uk/economy/governmentpublicsectorandtaxes/publicsectorfinance/timeseries/ebft/pusf)|\n",
    "| | | ||\n",
    "||**Construction Sector Indicators (dependent variables)**\n",
    "|8| Construction output (total, residential, commercial) |annually, quarterly, monthly| Office for National Statistics (ONS) |[[8]](https://www.ons.gov.uk/datasets/output-in-the-construction-industry/editions/time-series/versions/44) |\n",
    "|9| Construction material prices |monthly| Department for Business & Trade Gov.uk| [[9.1]](https://www.data.gov.uk/dataset/75ee36ed-21f7-4d7b-9e7c-f5bf4546145d/monthly_statistics_of_building_materials_and_components) , [[9.2]](https://webarchive.nationalarchives.gov.uk/ukgwa/timeline/https://www.gov.uk/government/collections/building-materials-and-components-monthly-statistics-2012) |\n",
    "|10| Number of construction firms|annually|Office for National Statistics (ONS)| [[10]](https://www.ons.gov.uk/businessindustryandtrade/constructionindustry/datasets/constructionstatisticsannualtables) |\n",
    "|11| Number of employees in the construction sector|annually|Office for National Statistics (ONS)| [[11]](https://www.ons.gov.uk/businessindustryandtrade/constructionindustry/datasets/constructionstatisticsannualtables) |\n",
    "|12| Number and value of new construction contracts/orders |annually, quarterly|Office for National Statistics (ONS)| [[12]](https://www.ons.gov.uk/businessindustryandtrade/constructionindustry/datasets/newordersintheconstructionindustry/current) |"
   ]
  },
  {
   "cell_type": "markdown",
   "id": "f31cf10c-1ffd-4c4c-8488-4e61cd718991",
   "metadata": {},
   "source": [
    "### 2. Tools and Libraries"
   ]
  },
  {
   "cell_type": "code",
   "execution_count": 253,
   "id": "9cae7a2d-e1e8-4591-bd8c-54929a196b4c",
   "metadata": {},
   "outputs": [
    {
     "name": "stdout",
     "output_type": "stream",
     "text": [
      "Requirement already satisfied: odfpy in /opt/anaconda3/lib/python3.13/site-packages (1.4.1)\n",
      "Requirement already satisfied: defusedxml in /opt/anaconda3/lib/python3.13/site-packages (from odfpy) (0.7.1)\n",
      "Note: you may need to restart the kernel to use updated packages.\n"
     ]
    }
   ],
   "source": [
    "pip install odfpy"
   ]
  },
  {
   "cell_type": "code",
   "execution_count": 254,
   "id": "893b2f74-2882-48dd-8674-815612f1ab45",
   "metadata": {},
   "outputs": [
    {
     "name": "stdout",
     "output_type": "stream",
     "text": [
      "Requirement already satisfied: ezodf in /opt/anaconda3/lib/python3.13/site-packages (0.3.2)\n",
      "Requirement already satisfied: odfpy in /opt/anaconda3/lib/python3.13/site-packages (1.4.1)\n",
      "Requirement already satisfied: defusedxml in /opt/anaconda3/lib/python3.13/site-packages (from odfpy) (0.7.1)\n",
      "Note: you may need to restart the kernel to use updated packages.\n"
     ]
    }
   ],
   "source": [
    "pip install ezodf odfpy"
   ]
  },
  {
   "cell_type": "code",
   "execution_count": 255,
   "id": "74f29b37-455d-4b37-a561-3a45084c2bdd",
   "metadata": {},
   "outputs": [
    {
     "name": "stdout",
     "output_type": "stream",
     "text": [
      "Requirement already satisfied: xlrd in /opt/anaconda3/lib/python3.13/site-packages (2.0.2)\n",
      "Note: you may need to restart the kernel to use updated packages.\n"
     ]
    }
   ],
   "source": [
    "pip install xlrd"
   ]
  },
  {
   "cell_type": "code",
   "execution_count": 256,
   "id": "0a8469c8-b21d-46e0-b44b-54adf5a7a917",
   "metadata": {},
   "outputs": [],
   "source": [
    "import pandas as pd\n",
    "import numpy as np\n",
    "import matplotlib.pyplot as plt\n",
    "import seaborn as sns\n",
    "import requests\n",
    "from io import BytesIO\n",
    "from io import StringIO\n",
    "import ezodf"
   ]
  },
  {
   "cell_type": "markdown",
   "id": "e81c322f-6f3d-4fb8-b897-55c5b00641d6",
   "metadata": {},
   "source": [
    "### 3. Collecting Data"
   ]
  },
  {
   "cell_type": "markdown",
   "id": "7d9f0210-0d01-41e9-8a07-adfdf167e8f4",
   "metadata": {},
   "source": [
    "**Functions for collecting and primary cleaning data:**"
   ]
  },
  {
   "cell_type": "markdown",
   "id": "60f5415a-bbd0-4165-80b5-f91247da7ae0",
   "metadata": {},
   "source": [
    "*Office for National Statistics (ONS):*"
   ]
  },
  {
   "cell_type": "code",
   "execution_count": 257,
   "id": "bf5c16d9-a84c-49c0-8a9b-e5605bb81b50",
   "metadata": {},
   "outputs": [],
   "source": [
    "# Collecting CSV data, skipping metadata rows (number_skiprows) to extract time series \n",
    "\n",
    "def get_csv_time_series(download_url, number_skiprows, column_list=None):\n",
    "    response = requests.get(download_url)\n",
    "        #Creating df:\n",
    "    if response.ok:\n",
    "        data = StringIO(response.text)\n",
    "        df = pd.read_csv(data, skiprows=number_skiprows)\n",
    "        if column_list == None:\n",
    "            return df\n",
    "        else:\n",
    "            df.columns = column_list\n",
    "        return df\n",
    "    else:\n",
    "        print(\"Download failed:\", response.status_code)"
   ]
  },
  {
   "cell_type": "code",
   "execution_count": 258,
   "id": "7c8e2a0b-64a2-4455-ad4e-4438dd11c79e",
   "metadata": {},
   "outputs": [],
   "source": [
    "# Collecting ODS files:\n",
    "\n",
    "def get_ods_time_series(download_url, sheet_name):\n",
    "    # Download the file into memory\n",
    "    response = requests.get(download_url)\n",
    "    ods_data = BytesIO(response.content)\n",
    "    \n",
    "    # Load the 'Table_1' sheet\n",
    "    df = pd.read_excel(ods_data, engine=\"odf\", sheet_name=sheet_name, header=None)\n",
    "\n",
    "    return df"
   ]
  },
  {
   "cell_type": "code",
   "execution_count": 259,
   "id": "de98e002-0f4a-4a84-9b96-79b4748e19de",
   "metadata": {},
   "outputs": [],
   "source": [
    "# Collecting XLS files:\n",
    "\n",
    "def get_xls_time_series(download_url, sheet_name):\n",
    "    # Download the file into memory\n",
    "    response = requests.get(download_url)\n",
    "    xls_data = BytesIO(response.content)\n",
    "    \n",
    "    # Load the 'Table_1' sheet\n",
    "    df = pd.read_excel(xls_data, sheet_name=sheet_name, header=None)\n",
    "\n",
    "    return df"
   ]
  },
  {
   "cell_type": "markdown",
   "id": "80d61a58-b6d9-4396-9f74-6c1c88baa384",
   "metadata": {},
   "source": [
    "*From Bank of England (BoE):*"
   ]
  },
  {
   "cell_type": "code",
   "execution_count": 260,
   "id": "af31de34-7232-4308-954a-2eae45322034",
   "metadata": {},
   "outputs": [],
   "source": [
    "# html data collection (web-scraping) function from Bank of England website:\n",
    "def get_time_series_from_BoE(download_url, variable_name):\n",
    "    headers = {\n",
    "    'accept-language': 'en-US,en;q=0.9',\n",
    "    'User-Agent': 'Mozilla/5.0 (X11; Linux x86_64) AppleWebKit/537.36 (KHTML, like Gecko) Chrome/109.0.0.0 Safari/537.36'\n",
    "    }\n",
    "\n",
    "    response = requests.get(download_url, headers=headers)\n",
    "    html = StringIO(response.text)\n",
    "\n",
    "    df = pd.read_html(html)[0]\n",
    "    df.columns = [\"Date\", variable_name]\n",
    "\n",
    "    # Using explicit format to avoid warning\n",
    "    df[\"Date\"] = pd.to_datetime(df[\"Date\"], format=\"%d %b %y\")\n",
    "    df[variable_name] = pd.to_numeric(df[variable_name], errors=\"coerce\")\n",
    "    df.sort_values(\"Date\", inplace=True)\n",
    "\n",
    "    return df"
   ]
  },
  {
   "cell_type": "markdown",
   "id": "97c56def-ddb9-47f5-abbd-820b65cc8a08",
   "metadata": {},
   "source": [
    "#### Indicator 1: Consumer Price Index incl. housing (CPIH)\n",
    "\n",
    "- Source: Office for National Statistics (ONS)\n",
    "- Frequency: annually, quarterly, monthly\n",
    "- Coverage: Jan 1988 - May 2025\n",
    "- CPIH INDEX 00: ALL ITEMS 2015=100\n",
    "- Release date: 18-Jun-2025\n",
    "- Next release: 16-Jul-2025"
   ]
  },
  {
   "cell_type": "code",
   "execution_count": 261,
   "id": "0605cac1-a44d-4e4c-a788-33b4e874ac2f",
   "metadata": {},
   "outputs": [
    {
     "name": "stdout",
     "output_type": "stream",
     "text": [
      "   Date  Consumer Price Index incl. housing (CPIH), 2015=100\n",
      "0  1988                                               48.2  \n",
      "1  1989                                               51.0  \n",
      "2  1990                                               55.1  \n",
      "3  1991                                               59.2  \n",
      "4  1992                                               61.9  \n"
     ]
    }
   ],
   "source": [
    "# Link for downloading\n",
    "url_1 = 'https://www.ons.gov.uk/generator?format=csv&uri=/economy/inflationandpriceindices/timeseries/l522/mm23'\n",
    "columns = ['Date', 'Consumer Price Index incl. housing (CPIH), 2015=100']\n",
    "\n",
    "# Downloading data\n",
    "df_1 = get_csv_time_series(url_1, 7, columns)\n",
    "print(df_1.head(5))\n",
    "\n",
    "# Saving data\n",
    "df_1.to_csv('df_1_raw.csv', index=False)"
   ]
  },
  {
   "cell_type": "markdown",
   "id": "79dd95c7-9dc8-4a91-b96b-5300d5b9dc35",
   "metadata": {},
   "source": [
    "#### Indicator 2: Gross Domestic Product (GDP): chained volume measures: Seasonally adjusted £m\n",
    "\n",
    "- Source: Office for National Statistics (ONS)\n",
    "- Frequency: annually, quarterly\n",
    "- Coverage: Q1 1955 - Q1 2025\n",
    "- Release date: 15-May-2025\n",
    "- Next release: 30-Jun-2025"
   ]
  },
  {
   "cell_type": "code",
   "execution_count": 262,
   "id": "df704d69-5676-4911-80ca-02c2fccccaab",
   "metadata": {},
   "outputs": [
    {
     "name": "stdout",
     "output_type": "stream",
     "text": [
      "   Date  GDP, Seasonally adjusted £m\n",
      "0  1948                       422621\n",
      "1  1949                       436620\n",
      "2  1950                       451212\n",
      "3  1951                       467977\n",
      "4  1952                       474994\n"
     ]
    }
   ],
   "source": [
    "# Link for downloading\n",
    "url_2 = 'https://www.ons.gov.uk/generator?format=csv&uri=/economy/grossdomesticproductgdp/timeseries/abmi/pn2'\n",
    "columns = ['Date', 'GDP, Seasonally adjusted £m']\n",
    "\n",
    "# Downloading data\n",
    "df_2 = get_csv_time_series(url_2, 7, columns)\n",
    "print(df_2.head(5))\n",
    "\n",
    "# Saving data\n",
    "df_2.to_csv('df_2_raw.csv', index=False)"
   ]
  },
  {
   "cell_type": "markdown",
   "id": "d4532a46-a554-4f86-ab15-7f7d8f518947",
   "metadata": {},
   "source": [
    "#### Indicator 3: Employment rate (aged 16 to 64, seasonally adjusted): %\n",
    "\n",
    "- Source: Office for National Statistics (ONS)\n",
    "- Frequency: annually, quarterly, monthly\n",
    "- Coverage: Feb 1971 - Mar 2025\n",
    "- Release date: 10-Jun-2025\n",
    "- Next release: 17-Jul-2025"
   ]
  },
  {
   "cell_type": "code",
   "execution_count": 263,
   "id": "cc402a53-aa34-4a12-a56d-ecac33c21660",
   "metadata": {},
   "outputs": [
    {
     "name": "stdout",
     "output_type": "stream",
     "text": [
      "   Date  Employment rate (aged 16 to 64, seasonally adjusted), %\n",
      "0  1971                                               71.8      \n",
      "1  1972                                               72.0      \n",
      "2  1973                                               72.9      \n",
      "3  1974                                               73.0      \n",
      "4  1975                                               72.6      \n"
     ]
    }
   ],
   "source": [
    "# Link for downloading\n",
    "url_3 = 'https://www.ons.gov.uk/generator?format=csv&uri=/employmentandlabourmarket/peopleinwork/employmentandemployeetypes/timeseries/lf24/lms'\n",
    "columns = ['Date', 'Employment rate (aged 16 to 64, seasonally adjusted), %']\n",
    "\n",
    "# Downloading data\n",
    "df_3 = get_csv_time_series(url_3, 7, columns)\n",
    "print(df_3.head(5))\n",
    "\n",
    "# Saving data\n",
    "df_3.to_csv('df_3_raw.csv', index=False)"
   ]
  },
  {
   "cell_type": "markdown",
   "id": "4f7fe0b9-a8ac-4c71-a260-d9142f0821fc",
   "metadata": {},
   "source": [
    "#### Indicator 4: Month average Bank Rate\n",
    "\n",
    "- Source: Bank of England (BoE)\n",
    "- Frequency: monthly\n",
    "- Coverage: Jan 2000 - Jun 2025\n",
    "- Release date: 30-Jun-2025\n",
    "- Next release: 31-Jul-2025"
   ]
  },
  {
   "cell_type": "code",
   "execution_count": 264,
   "id": "ee5d391a-7db6-4b0c-9155-729bf4e1626f",
   "metadata": {},
   "outputs": [
    {
     "name": "stdout",
     "output_type": "stream",
     "text": [
      "          Date  Month average BoE Rate, %\n",
      "236 2024-09-30                     5.0000\n",
      "237 2024-10-31                     5.0000\n",
      "238 2024-11-30                     4.7976\n",
      "239 2024-12-31                     4.7500\n",
      "240 2025-01-31                     4.7500\n"
     ]
    }
   ],
   "source": [
    "# Link for downloading\n",
    "url_4 = 'https://www.bankofengland.co.uk/boeapps/database/fromshowcolumns.asp?Travel=NIxIRxSUx&FromSeries=1&ToSeries=50&DAT=RNG&FD=1&FM=Jan&FY=2005&TD=1&TM=Feb&TY=2025&FNY=&CSVF=TT&html.x=257&html.y=39&C=KV&Filter=N'\n",
    "\n",
    "# Downloading data\n",
    "df_4 = get_time_series_from_BoE(url_4, 'Month average BoE Rate, %')\n",
    "print(df_4.tail(5))\n",
    "\n",
    "# Saving data\n",
    "df_4.to_csv('df_4_raw.csv', index=False)"
   ]
  },
  {
   "cell_type": "markdown",
   "id": "95b27ff3-2123-41bb-9464-2623238c234d",
   "metadata": {},
   "source": [
    "#### Indicators 5.1 and 5.2: Exchange rates (GBP/USD and GBP/EUR)\n",
    "\n",
    "- Source: Bank of England (BoE)\n",
    "- Frequency: monthly average\n",
    "- Coverage: Jan 2005 - Jul 2025\n",
    "- Link update : 15-Jul-2025\n",
    "- Release: every day"
   ]
  },
  {
   "cell_type": "markdown",
   "id": "2e33b1e3-c004-42a2-a218-60fa495ea5c8",
   "metadata": {},
   "source": [
    "**GBP/EUR**"
   ]
  },
  {
   "cell_type": "code",
   "execution_count": 265,
   "id": "4f0cbeb5-e745-4b3b-ae90-07e173fd25ec",
   "metadata": {
    "scrolled": true
   },
   "outputs": [
    {
     "name": "stdout",
     "output_type": "stream",
     "text": [
      "          Date  GBP/EUR\n",
      "241 2025-02-28   1.2039\n",
      "242 2025-03-31   1.1941\n",
      "243 2025-04-30   1.1709\n",
      "244 2025-05-31   1.1852\n",
      "245 2025-06-30   1.1768\n"
     ]
    }
   ],
   "source": [
    "# Link for downloading\n",
    "url_5_1 = 'https://www.bankofengland.co.uk/boeapps/database/fromshowcolumns.asp?Travel=NIxIRxSUx&FromSeries=1&ToSeries=50&DAT=RNG&FD=1&FM=Jan&FY=2005&TD=16&TM=Jul&TY=2025&FNY=&CSVF=TT&html.x=92&html.y=45&C=5UW&Filter=N'\n",
    "\n",
    "# Downloading data\n",
    "df_5_1 = get_time_series_from_BoE(url_5_1, 'GBP/EUR')\n",
    "print(df_5_1.tail(5))\n",
    "\n",
    "# Saving data\n",
    "df_5_1.to_csv('df_5_1_raw.csv', index=False)"
   ]
  },
  {
   "cell_type": "markdown",
   "id": "095afaef-a12c-4285-ab63-628750851c79",
   "metadata": {},
   "source": [
    "**GBP/USD**"
   ]
  },
  {
   "cell_type": "code",
   "execution_count": 266,
   "id": "61e9e17c-c8ba-472a-a393-0a1558f13025",
   "metadata": {},
   "outputs": [
    {
     "name": "stdout",
     "output_type": "stream",
     "text": [
      "          Date  GBP/USD\n",
      "241 2025-02-28   1.2545\n",
      "242 2025-03-31   1.2911\n",
      "243 2025-04-30   1.3131\n",
      "244 2025-05-31   1.3366\n",
      "245 2025-06-30   1.3566\n"
     ]
    }
   ],
   "source": [
    "# Link for downloading\n",
    "url_5_2 = 'https://www.bankofengland.co.uk/boeapps/database/fromshowcolumns.asp?Travel=NIxIRxSUx&FromSeries=1&ToSeries=50&DAT=RNG&FD=1&FM=Jan&FY=2005&TD=31&TM=Dec&TY=2025&FNY=&CSVF=TT&html.x=128&html.y=48&C=5YE&Filter=N'\n",
    "\n",
    "# Downloading data\n",
    "df_5_2 = get_time_series_from_BoE(url_5_2, 'GBP/USD')\n",
    "print(df_5_2.tail(5))\n",
    "\n",
    "# Saving data\n",
    "df_5_2.to_csv('df_5_2_raw.csv', index=False)"
   ]
  },
  {
   "cell_type": "markdown",
   "id": "02413c9f-9956-4854-9654-b59fe8871cc1",
   "metadata": {},
   "source": [
    "#### Indicator 6: Business Investment (CVM, Seasonally Adjusted, in £ millions, % change)\n",
    "\n",
    "- Source: Office for National Statistics (ONS)\n",
    "- Frequency: quarterly\n",
    "- Coverage: Q2 1997 - Q1 2025\n",
    "- Release date: 15-May-2025\n",
    "- Next release: 30-Jun-2025"
   ]
  },
  {
   "cell_type": "code",
   "execution_count": 267,
   "id": "1a8e52d7-1794-4d8b-8a87-1bebd81b6533",
   "metadata": {},
   "outputs": [
    {
     "name": "stdout",
     "output_type": "stream",
     "text": [
      "      Date  Business Investment, CVM, SA, in £m, % change\n",
      "0  1997 Q2                                            4.4\n",
      "1  1997 Q3                                            6.1\n",
      "2  1997 Q4                                            2.6\n",
      "3  1998 Q1                                            1.6\n",
      "4  1998 Q2                                           -0.4\n"
     ]
    }
   ],
   "source": [
    "# Link for downloading\n",
    "url_6 = 'https://www.ons.gov.uk/generator?format=csv&uri=/economy/grossdomesticproductgdp/timeseries/kg7p/pn2'\n",
    "columns = ['Date', 'Business Investment, CVM, SA, in £m, % change']\n",
    "\n",
    "# Downloading data\n",
    "df_6 = get_csv_time_series(url_6, 7, columns)\n",
    "print(df_6.head(5))\n",
    "\n",
    "# Saving data\n",
    "df_6.to_csv('df_6_raw.csv', index=False)"
   ]
  },
  {
   "cell_type": "markdown",
   "id": "c21a4cc9-5cd3-4f69-9940-818a8d918726",
   "metadata": {},
   "source": [
    "#### Indicator 7: Total managed expenditure: £m\n",
    "\n",
    "- Source: Office for National Statistics (ONS)\n",
    "- Frequency: annually, quarterly, monthly\n",
    "- Coverage: Apr 1997 - May 2025\n",
    "- Release date: 20-Jun-2025\n",
    "- Next release: 20-Jul-2025"
   ]
  },
  {
   "cell_type": "code",
   "execution_count": 268,
   "id": "82847347-2370-4980-9fc1-8f5c0912c1f6",
   "metadata": {},
   "outputs": [
    {
     "name": "stdout",
     "output_type": "stream",
     "text": [
      "   Date  Total managed expenditure: £m\n",
      "0  1946                           4353\n",
      "1  1947                           3925\n",
      "2  1948                           4327\n",
      "3  1949                           4655\n",
      "4  1950                           4768\n"
     ]
    }
   ],
   "source": [
    "# Link for downloading\n",
    "url_7 = 'https://www.ons.gov.uk/generator?format=csv&uri=/economy/governmentpublicsectorandtaxes/publicsectorfinance/timeseries/ebft/pusf'\n",
    "columns = ['Date', 'Total managed expenditure: £m']\n",
    "\n",
    "# Downloading data\n",
    "df_7 = get_csv_time_series(url_7, 7, columns)\n",
    "print(df_7.head(5))\n",
    "\n",
    "# Saving data\n",
    "df_7.to_csv('df_7_raw.csv', index=False)"
   ]
  },
  {
   "cell_type": "markdown",
   "id": "26eb26ea-c2f8-462b-a00d-1e9c0dee5d74",
   "metadata": {},
   "source": [
    "#### Indicator 8: Construction output (Seasonally Adjusted, total, residential, commercial): £m\n",
    "\n",
    "- Source: Office for National Statistics (ONS)\n",
    "- Frequency: annualy, quarterly, monthly (from 2010)\n",
    "- Coverage: Q1 1997 - May 2025\n",
    "- Release date: 11-Jul-2025\n",
    "- Next release: 14-Aug-2025"
   ]
  },
  {
   "cell_type": "code",
   "execution_count": 269,
   "id": "871dad1d-99b6-4d49-9cb8-da6f61dece9d",
   "metadata": {},
   "outputs": [
    {
     "name": "stdout",
     "output_type": "stream",
     "text": [
      "      v4_1  Data Marking years-quarters-months        Time  \\\n",
      "0   1570.0           NaN              2013-aug  2013 - Aug   \n",
      "1   2588.0           NaN              2013-aug  2013 - Aug   \n",
      "2    393.0           NaN              2013-aug  2013 - Aug   \n",
      "3  13367.0           NaN              2013-aug  2013 - Aug   \n",
      "4   2593.0           NaN              2013-aug  2013 - Aug   \n",
      "\n",
      "  administrative-geography      Geography  seasonal-adjustment  \\\n",
      "0                K03000001  Great Britain  seasonal-adjustment   \n",
      "1                K03000001  Great Britain  seasonal-adjustment   \n",
      "2                K03000001  Great Britain  seasonal-adjustment   \n",
      "3                K03000001  Great Britain  seasonal-adjustment   \n",
      "4                K03000001  Great Britain  seasonal-adjustment   \n",
      "\n",
      "    SeasonalAdjustment construction-series-type SeriesType  \\\n",
      "0  Seasonally adjusted           pounds-million   £million   \n",
      "1  Seasonally adjusted           pounds-million   £million   \n",
      "2  Seasonally adjusted           pounds-million   £million   \n",
      "3  Seasonally adjusted           pounds-million   £million   \n",
      "4  Seasonally adjusted           pounds-million   £million   \n",
      "\n",
      "  construction-classifications                   TypeOfWork  \n",
      "0                        1-2-3      Infrastructure new work  \n",
      "1                  1-2-2-1-2-2  Private commercial new work  \n",
      "2                  1-2-2-1-2-1  Private industrial new work  \n",
      "3                            1                     All work  \n",
      "4                        1-1-1            Total housing R&M  \n"
     ]
    }
   ],
   "source": [
    "# Link for downloading\n",
    "url_8 = 'https://static.ons.gov.uk/datasets/f829c881-2ec5-403a-b9ed-8a800acd3aa5/output-in-the-construction-industry-time-series-v44-filtered-2025-07-14T12-20-00Z.csv'\n",
    "\n",
    "# Downloading data\n",
    "df_8 = get_csv_time_series(url_8, 0)\n",
    "print(df_8.head(5))\n",
    "\n",
    "# Saving data\n",
    "df_8.to_csv('df_8_raw.csv', index=False)"
   ]
  },
  {
   "cell_type": "markdown",
   "id": "363c156a-f78d-4ad0-9995-97c548318982",
   "metadata": {},
   "source": [
    "#### Indicator 9: Construction material Price Indices\n",
    "\n",
    "A Single Dataset covering the period from 2005 to 2025 was not found. Therefore, the dataset for this indcator consists of **4 parts**:"
   ]
  },
  {
   "cell_type": "markdown",
   "id": "cbda6fc0-d8ab-4fab-93c4-b8d20305da3c",
   "metadata": {},
   "source": [
    "**9_1. Construction Material price indices for 2020 - 2025 years**\n",
    "\n",
    "- Source: Department for Business & Trade Gov.uk\n",
    "- Frequency: monthly\n",
    "- Coverage: Jan 2020 - Jan 2025\n",
    "- Release date: 02-Jul-2025\n",
    "- Next release: 06-Aug-2025\n",
    "- Base Index: 2015 = 100"
   ]
  },
  {
   "cell_type": "code",
   "execution_count": 270,
   "id": "262cdc29-fbe4-4597-956c-8d192b852339",
   "metadata": {},
   "outputs": [
    {
     "name": "stdout",
     "output_type": "stream",
     "text": [
      "       0             1      2      3      4      5\n",
      "58  2024         April    153  156.2  152.6  153.7\n",
      "59  2024           May  154.5  156.3    154  154.4\n",
      "60  2024          June  154.7    156  154.3  154.5\n",
      "61  2024          July  153.9  155.4  153.5  154.1\n",
      "62  2024        August  153.6  154.9  153.3  153.8\n",
      "63  2024     September  153.3  154.4  152.8    153\n",
      "64  2024       October  152.9  153.7  152.1  152.2\n",
      "65  2024  November [p]    153    154  152.1  152.9\n",
      "66  2024  December [p]  152.9  152.9  152.1  152.1\n",
      "67  2025   January [p]  152.4  153.2  151.8  151.8\n"
     ]
    }
   ],
   "source": [
    "# Link for downloading\n",
    "url_9_1 = \"https://assets.publishing.service.gov.uk/media/68385e045150d70c85aafadb/Construction_building_materials_-_tables_May_2025.ods\"\n",
    "\n",
    "# Downloading data\n",
    "df_9_1_raw = get_ods_time_series(url_9_1, \"1a\")\n",
    "print(df_9_1_raw.tail(10))\n",
    "\n",
    "# Saving data\n",
    "df_9_1.to_csv('df_9_1_raw.csv', index=False)"
   ]
  },
  {
   "cell_type": "markdown",
   "id": "4ab30bda-3fe6-47cd-b2ba-ae5e1bd28ff6",
   "metadata": {},
   "source": [
    "**9_2. Construction Material price indices for 2015 - 2020 years**\n",
    "\n",
    "- Source: Department for Business & Trade Gov.uk\n",
    "- Frequency: monthly\n",
    "- Coverage: Jan 2015 - Dec 2020\n",
    "- Release date: 03-Feb-2021\n",
    "- Base Index: 2015 = 100"
   ]
  },
  {
   "cell_type": "code",
   "execution_count": 271,
   "id": "a62e9ae2-378b-4bb2-8250-004ded1f587a",
   "metadata": {},
   "outputs": [
    {
     "name": "stdout",
     "output_type": "stream",
     "text": [
      "                     0      1   2      3   4      5   6      7   8      9   \\\n",
      "9               January  100.5 NaN   98.5 NaN  102.8 NaN  107.7 NaN  111.7   \n",
      "10             February  100.6 NaN   99.1 NaN  103.9 NaN  109.3 NaN  112.4   \n",
      "11                March  100.6 NaN   98.9 NaN  104.3 NaN  109.3 NaN  113.4   \n",
      "12                April  100.6 NaN   99.4 NaN  104.8 NaN  109.7 NaN  113.1   \n",
      "13                  May  100.9 NaN   99.8 NaN  105.2 NaN  110.1 NaN  112.8   \n",
      "..                  ...    ...  ..    ...  ..    ...  ..    ...  ..    ...   \n",
      "65                 June  100.6 NaN   99.5 NaN  103.9 NaN  109.7 NaN  112.3   \n",
      "66                 July  100.6 NaN   99.6 NaN  104.1 NaN  110.1 NaN  112.7   \n",
      "67               August   99.8 NaN   99.8 NaN  104.4 NaN  110.4 NaN  112.2   \n",
      "68            September   99.1 NaN  100.2 NaN  105.1 NaN  111.0 NaN  112.3   \n",
      "69              October   98.7 NaN  100.2 NaN  106.0 NaN  111.0 NaN  111.9   \n",
      "\n",
      "    10     11   12  \n",
      "9  NaN  110.9  NaN  \n",
      "10 NaN  111.4  NaN  \n",
      "11 NaN  111.7  NaN  \n",
      "12 NaN  111.7  NaN  \n",
      "13 NaN  112.5  NaN  \n",
      "..  ..    ...  ...  \n",
      "65 NaN  111.8  NaN  \n",
      "66 NaN  111.6  NaN  \n",
      "67 NaN  111.6  NaN  \n",
      "68 NaN  111.6  NaN  \n",
      "69 NaN  113.7    p  \n",
      "\n",
      "[61 rows x 13 columns]\n"
     ]
    }
   ],
   "source": [
    "# Link for downloading\n",
    "url_9_2 = \"https://assets.publishing.service.gov.uk/media/6017be098fa8f53fc62c5886/21-cs2_-_Construction_Building_Materials_-_Tables_January_2021.ods\"\n",
    "\n",
    "# Downloading data\n",
    "df_9_2_raw = get_ods_time_series(url_9_2, \"Table_1\")\n",
    "print(df_9_2_raw.iloc[9:-10, :])\n",
    "\n",
    "# Saving data\n",
    "df_9_2.to_csv('df_9_2_raw.csv', index=False)"
   ]
  },
  {
   "cell_type": "markdown",
   "id": "611ddb2b-0081-4ac1-810c-481fc39e2633",
   "metadata": {},
   "source": [
    "**9_3. Construction Material price indices for 2010 - 2015 years**\n",
    "\n",
    "- Source: Department for Business & Trade Gov.uk\n",
    "- Frequency: monthly\n",
    "- Coverage: Jan 2010 - Dec 2015\n",
    "- Release date: 03-Feb-2016\n",
    "- Base Index: 2010 = 100"
   ]
  },
  {
   "cell_type": "code",
   "execution_count": 272,
   "id": "d45d2c5f-8951-471d-8204-b3756a4c1035",
   "metadata": {},
   "outputs": [
    {
     "name": "stdout",
     "output_type": "stream",
     "text": [
      "                             0           1   2           3   4           5   \\\n",
      "9                       January   96.100000 NaN  102.200000 NaN  106.000000   \n",
      "10                     February   96.500000 NaN  103.100000 NaN  106.400000   \n",
      "11                        March   96.900000 NaN  103.700000 NaN  107.600000   \n",
      "12                        April   98.400000 NaN  104.200000 NaN  107.900000   \n",
      "13                          May   99.900000 NaN  104.800000 NaN  107.900000   \n",
      "14                         June  100.800000 NaN  105.700000 NaN  107.300000   \n",
      "15                         July  101.300000 NaN  106.000000 NaN  107.300000   \n",
      "16                       August  101.700000 NaN  106.600000 NaN  107.200000   \n",
      "17                    September  102.000000 NaN  106.500000 NaN  107.100000   \n",
      "18                      October  102.000000 NaN  106.700000 NaN  107.200000   \n",
      "19                     November  102.300000 NaN  106.500000 NaN  107.300000   \n",
      "20                     December  102.000000 NaN  106.200000 NaN  106.800000   \n",
      "21                          NaN         NaN NaN         NaN NaN         NaN   \n",
      "22               Annual Average   99.991667 NaN  105.183333 NaN  107.166667   \n",
      "23                          NaN         NaN NaN         NaN NaN         NaN   \n",
      "24          (b)  Other New Work         NaN NaN         NaN NaN         NaN   \n",
      "25                          NaN         NaN NaN         NaN NaN         NaN   \n",
      "26                      January   95.400000 NaN  103.500000 NaN  110.700000   \n",
      "27                     February   95.700000 NaN  105.000000 NaN  111.100000   \n",
      "28                        March   96.400000 NaN  106.500000 NaN  112.200000   \n",
      "29                        April   99.100000 NaN  108.200000 NaN  112.400000   \n",
      "30                          May  101.100000 NaN  109.200000 NaN  111.800000   \n",
      "31                         June  102.500000 NaN  109.900000 NaN  111.600000   \n",
      "32                         July  102.000000 NaN  109.800000 NaN  110.800000   \n",
      "33                       August  101.700000 NaN  110.000000 NaN  110.900000   \n",
      "34                    September  101.800000 NaN  109.900000 NaN  111.500000   \n",
      "35                      October  101.500000 NaN  109.800000 NaN  111.500000   \n",
      "36                     November  101.300000 NaN  109.500000 NaN  111.100000   \n",
      "37                     December  101.300000 NaN  109.800000 NaN  111.100000   \n",
      "38                          NaN         NaN NaN         NaN NaN         NaN   \n",
      "39               Annual Average   99.983333 NaN  108.425000 NaN  111.391667   \n",
      "40                          NaN         NaN NaN         NaN NaN         NaN   \n",
      "41  (c)  Repair and Maintenance         NaN NaN         NaN NaN         NaN   \n",
      "42                          NaN         NaN NaN         NaN NaN         NaN   \n",
      "43                      January   95.600000 NaN  102.600000 NaN  107.200000   \n",
      "44                     February   96.300000 NaN  103.700000 NaN  107.900000   \n",
      "45                        March   96.500000 NaN  104.400000 NaN  108.800000   \n",
      "46                        April   98.100000 NaN  105.100000 NaN  109.200000   \n",
      "47                          May  100.100000 NaN  105.800000 NaN  109.100000   \n",
      "48                         June  101.000000 NaN  106.600000 NaN  108.500000   \n",
      "49                         July  101.500000 NaN  107.200000 NaN  108.200000   \n",
      "50                       August  101.900000 NaN  107.900000 NaN  108.200000   \n",
      "51                    September  102.100000 NaN  107.600000 NaN  108.200000   \n",
      "52                      October  102.100000 NaN  107.800000 NaN  108.200000   \n",
      "53                     November  102.500000 NaN  107.600000 NaN  108.200000   \n",
      "54                     December  102.200000 NaN  107.500000 NaN  107.700000   \n",
      "55                          NaN         NaN NaN         NaN NaN         NaN   \n",
      "56               Annual Average   99.991667 NaN  106.150000 NaN  108.283333   \n",
      "57                          NaN         NaN NaN         NaN NaN         NaN   \n",
      "58                (d)  All Work         NaN NaN         NaN NaN         NaN   \n",
      "59                          NaN         NaN NaN         NaN NaN         NaN   \n",
      "60                      January   95.700000 NaN  103.100000 NaN  109.000000   \n",
      "61                     February   96.200000 NaN  104.400000 NaN  109.300000   \n",
      "62                        March   96.700000 NaN  105.600000 NaN  110.400000   \n",
      "63                        April   98.700000 NaN  107.000000 NaN  110.700000   \n",
      "64                          May  100.700000 NaN  107.700000 NaN  110.300000   \n",
      "65                         June  101.900000 NaN  108.600000 NaN  109.900000   \n",
      "66                         July  101.700000 NaN  108.700000 NaN  109.300000   \n",
      "67                       August  101.800000 NaN  109.000000 NaN  109.600000   \n",
      "68                    September  101.800000 NaN  108.900000 NaN  109.800000   \n",
      "\n",
      "    6           7   8           9   10          11   12  \n",
      "9  NaN  107.100000 NaN  108.600000 NaN  109.800000  NaN  \n",
      "10 NaN  107.600000 NaN  109.400000 NaN  109.900000  NaN  \n",
      "11 NaN  107.900000 NaN  110.000000 NaN  109.900000  NaN  \n",
      "12 NaN  108.100000 NaN  110.100000 NaN  109.900000  NaN  \n",
      "13 NaN  108.500000 NaN  110.300000 NaN  110.200000  NaN  \n",
      "14 NaN  108.200000 NaN  110.100000 NaN  109.700000  NaN  \n",
      "15 NaN  108.000000 NaN  110.500000 NaN  109.400000  NaN  \n",
      "16 NaN  108.200000 NaN  110.400000 NaN  109.000000  NaN  \n",
      "17 NaN  108.100000 NaN  110.300000 NaN  108.500000  NaN  \n",
      "18 NaN  108.500000 NaN  110.100000 NaN  108.300000    p  \n",
      "19 NaN  108.500000 NaN  110.200000 NaN  108.100000    p  \n",
      "20 NaN  108.500000 NaN  110.000000 NaN  107.800000    p  \n",
      "21 NaN         NaN NaN         NaN NaN         NaN  NaN  \n",
      "22 NaN  108.100000 NaN  110.000000 NaN  109.208333    p  \n",
      "23 NaN         NaN NaN         NaN NaN         NaN  NaN  \n",
      "24 NaN         NaN NaN         NaN NaN         NaN  NaN  \n",
      "25 NaN         NaN NaN         NaN NaN         NaN  NaN  \n",
      "26 NaN  112.100000 NaN  112.400000 NaN  111.500000  NaN  \n",
      "27 NaN  112.100000 NaN  113.300000 NaN  111.200000  NaN  \n",
      "28 NaN  112.800000 NaN  113.300000 NaN  111.700000  NaN  \n",
      "29 NaN  112.000000 NaN  112.700000 NaN  111.200000  NaN  \n",
      "30 NaN  111.500000 NaN  113.200000 NaN  111.100000  NaN  \n",
      "31 NaN  111.800000 NaN  112.900000 NaN  110.800000  NaN  \n",
      "32 NaN  111.700000 NaN  112.500000 NaN  110.600000  NaN  \n",
      "33 NaN  111.600000 NaN  112.400000 NaN  109.500000  NaN  \n",
      "34 NaN  111.200000 NaN  112.400000 NaN  109.000000  NaN  \n",
      "35 NaN  112.000000 NaN  112.400000 NaN  109.000000    p  \n",
      "36 NaN  112.200000 NaN  112.200000 NaN  108.200000    p  \n",
      "37 NaN  112.300000 NaN  111.600000 NaN  107.200000    p  \n",
      "38 NaN         NaN NaN         NaN NaN         NaN  NaN  \n",
      "39 NaN  111.941667 NaN  112.608333 NaN  110.083333    p  \n",
      "40 NaN         NaN NaN         NaN NaN         NaN  NaN  \n",
      "41 NaN         NaN NaN         NaN NaN         NaN  NaN  \n",
      "42 NaN         NaN NaN         NaN NaN         NaN  NaN  \n",
      "43 NaN  107.800000 NaN  109.500000 NaN  109.500000  NaN  \n",
      "44 NaN  108.400000 NaN  110.000000 NaN  109.100000  NaN  \n",
      "45 NaN  108.800000 NaN  110.600000 NaN  109.000000  NaN  \n",
      "46 NaN  109.000000 NaN  110.700000 NaN  108.800000  NaN  \n",
      "47 NaN  109.300000 NaN  110.800000 NaN  109.000000  NaN  \n",
      "48 NaN  109.000000 NaN  110.500000 NaN  108.600000  NaN  \n",
      "49 NaN  109.000000 NaN  110.900000 NaN  108.300000  NaN  \n",
      "50 NaN  109.400000 NaN  110.700000 NaN  107.800000  NaN  \n",
      "51 NaN  109.400000 NaN  110.700000 NaN  107.100000  NaN  \n",
      "52 NaN  109.500000 NaN  110.300000 NaN  107.000000    p  \n",
      "53 NaN  109.400000 NaN  110.100000 NaN  106.700000    p  \n",
      "54 NaN  109.400000 NaN  109.900000 NaN  106.200000    p  \n",
      "55 NaN         NaN NaN         NaN NaN         NaN  NaN  \n",
      "56 NaN  109.033333 NaN  110.391667 NaN  108.091667    p  \n",
      "57 NaN         NaN NaN         NaN NaN         NaN  NaN  \n",
      "58 NaN         NaN NaN         NaN NaN         NaN  NaN  \n",
      "59 NaN         NaN NaN         NaN NaN         NaN  NaN  \n",
      "60 NaN  110.000000 NaN  110.400000 NaN  110.200000  NaN  \n",
      "61 NaN  110.200000 NaN  111.300000 NaN  110.000000  NaN  \n",
      "62 NaN  110.800000 NaN  111.500000 NaN  110.300000  NaN  \n",
      "63 NaN  110.200000 NaN  111.000000 NaN  109.700000  NaN  \n",
      "64 NaN  110.100000 NaN  111.300000 NaN  109.900000  NaN  \n",
      "65 NaN  109.900000 NaN  111.000000 NaN  109.500000  NaN  \n",
      "66 NaN  110.100000 NaN  111.100000 NaN  109.500000  NaN  \n",
      "67 NaN  110.200000 NaN  110.900000 NaN  108.700000  NaN  \n",
      "68 NaN  109.800000 NaN  110.800000 NaN  107.900000  NaN  \n"
     ]
    }
   ],
   "source": [
    "# Link for downloading\n",
    "url_9_3 = \"https://www.gov.uk/government/uploads/system/uploads/attachment_data/file/497165/15-313n_-_Construction_Building_Materials_-_Open_Document_January_2016.ods\"\n",
    "\n",
    "# Downloading data\n",
    "df_9_3_raw = get_ods_time_series(url_9_3, \"Table_1\")\n",
    "print(df_9_3_raw.iloc[9:-10, :])\n",
    "\n",
    "# Saving data\n",
    "df_9_3.to_csv('df_9_3_raw.csv', index=False)"
   ]
  },
  {
   "cell_type": "markdown",
   "id": "b304bb72-0422-467e-bf0d-a5a0aec13a33",
   "metadata": {},
   "source": [
    "**9_4. Construction Material price indices for 2006 - 2011 years**\n",
    "\n",
    "- Source: Department for Business & Trade Gov.uk\n",
    "- Frequency: monthly\n",
    "- Coverage: Jan 2006 - Dec 2011\n",
    "- Release date: 01-Feb-2012\n",
    "- Base Index: 2005 = 100"
   ]
  },
  {
   "cell_type": "code",
   "execution_count": 273,
   "id": "c92995ad-26dd-4462-a182-c055470eff93",
   "metadata": {},
   "outputs": [
    {
     "name": "stdout",
     "output_type": "stream",
     "text": [
      "                             0           1   2           3   4           5   \\\n",
      "9                       January  101.600000 NaN  109.800000 NaN  115.300000   \n",
      "10                     February  102.600000 NaN  111.700000 NaN  116.800000   \n",
      "11                        March  103.400000 NaN  112.400000 NaN  117.500000   \n",
      "12                        April  103.600000 NaN  112.300000 NaN  118.200000   \n",
      "13                          May  104.600000 NaN  113.700000 NaN  119.000000   \n",
      "14                         June  105.800000 NaN  114.400000 NaN  118.700000   \n",
      "15                         July  106.500000 NaN  115.200000 NaN  120.000000   \n",
      "16                       August  107.600000 NaN  116.300000 NaN  120.500000   \n",
      "17                    September  107.700000 NaN  116.300000 NaN  120.400000   \n",
      "18                      October  108.800000 NaN  116.400000 NaN  121.100000   \n",
      "19                     November  109.500000 NaN  116.000000 NaN  120.400000   \n",
      "20                     December  110.000000 NaN  115.800000 NaN  119.700000   \n",
      "21                          NaN         NaN NaN         NaN NaN         NaN   \n",
      "22               Annual Average  105.975000 NaN  114.191667 NaN  118.966667   \n",
      "23                          NaN         NaN NaN         NaN NaN         NaN   \n",
      "24          (b)  Other New Work         NaN NaN         NaN NaN         NaN   \n",
      "25                          NaN         NaN NaN         NaN NaN         NaN   \n",
      "26                      January  100.500000 NaN  110.100000 NaN  114.300000   \n",
      "27                     February  101.700000 NaN  111.700000 NaN  116.200000   \n",
      "28                        March  102.700000 NaN  112.100000 NaN  117.300000   \n",
      "29                        April  103.100000 NaN  112.000000 NaN  119.200000   \n",
      "30                          May  104.400000 NaN  112.900000 NaN  121.600000   \n",
      "31                         June  105.600000 NaN  113.300000 NaN  123.700000   \n",
      "32                         July  106.800000 NaN  113.900000 NaN  126.400000   \n",
      "33                       August  108.300000 NaN  114.800000 NaN  127.700000   \n",
      "34                    September  108.700000 NaN  114.400000 NaN  128.600000   \n",
      "35                      October  109.500000 NaN  114.500000 NaN  129.300000   \n",
      "36                     November  109.600000 NaN  114.000000 NaN  126.600000   \n",
      "37                     December  109.900000 NaN  113.600000 NaN  124.700000   \n",
      "38                          NaN         NaN NaN         NaN NaN         NaN   \n",
      "39               Annual Average  105.900000 NaN  113.108333 NaN  122.966667   \n",
      "40                          NaN         NaN NaN         NaN NaN         NaN   \n",
      "41  (c)  Repair and Maintenance         NaN NaN         NaN NaN         NaN   \n",
      "42                          NaN         NaN NaN         NaN NaN         NaN   \n",
      "43                      January  101.600000 NaN  111.000000 NaN  116.000000   \n",
      "44                     February  102.400000 NaN  112.900000 NaN  117.200000   \n",
      "45                        March  103.500000 NaN  113.500000 NaN  117.900000   \n",
      "46                        April  103.900000 NaN  113.300000 NaN  119.200000   \n",
      "47                          May  104.800000 NaN  114.400000 NaN  120.400000   \n",
      "48                         June  106.100000 NaN  115.300000 NaN  121.200000   \n",
      "49                         July  106.900000 NaN  116.000000 NaN  122.900000   \n",
      "50                       August  108.500000 NaN  116.900000 NaN  123.700000   \n",
      "51                    September  109.000000 NaN  117.200000 NaN  123.800000   \n",
      "52                      October  110.200000 NaN  117.200000 NaN  124.700000   \n",
      "53                     November  110.800000 NaN  116.600000 NaN  123.500000   \n",
      "54                     December  111.400000 NaN  116.400000 NaN  122.400000   \n",
      "55                          NaN         NaN NaN         NaN NaN         NaN   \n",
      "56               Annual Average  106.591667 NaN  115.058333 NaN  121.075000   \n",
      "57                          NaN         NaN NaN         NaN NaN         NaN   \n",
      "58                (d)  All Work         NaN NaN         NaN NaN         NaN   \n",
      "59                          NaN         NaN NaN         NaN NaN         NaN   \n",
      "60                      January  101.200000 NaN  110.600000 NaN  115.300000   \n",
      "61                     February  102.100000 NaN  112.300000 NaN  116.900000   \n",
      "62                        March  103.100000 NaN  112.800000 NaN  117.900000   \n",
      "63                        April  103.500000 NaN  112.600000 NaN  119.200000   \n",
      "64                          May  104.700000 NaN  113.800000 NaN  121.000000   \n",
      "65                         June  105.800000 NaN  114.300000 NaN  122.300000   \n",
      "66                         July  106.900000 NaN  114.700000 NaN  124.400000   \n",
      "67                       August  108.400000 NaN  115.800000 NaN  125.700000   \n",
      "68                    September  108.700000 NaN  116.000000 NaN  126.200000   \n",
      "\n",
      "    6           7   8           9   10          11   12  \n",
      "9  NaN  119.700000 NaN  122.300000 NaN       130.1  NaN  \n",
      "10 NaN  120.600000 NaN  122.900000 NaN       131.2  NaN  \n",
      "11 NaN  120.600000 NaN  123.400000 NaN         132  NaN  \n",
      "12 NaN  120.200000 NaN  125.200000 NaN       132.6  NaN  \n",
      "13 NaN  119.800000 NaN  127.200000 NaN       133.4  NaN  \n",
      "14 NaN  119.500000 NaN  128.300000 NaN       134.6  NaN  \n",
      "15 NaN  119.100000 NaN  129.000000 NaN         135  NaN  \n",
      "16 NaN  120.200000 NaN  129.500000 NaN       135.7  NaN  \n",
      "17 NaN  121.000000 NaN  129.900000 NaN  135.575563  NaN  \n",
      "18 NaN  121.700000 NaN  129.800000 NaN       135.1  (P)  \n",
      "19 NaN  122.600000 NaN  130.200000 NaN       135.2  (P)  \n",
      "20 NaN  122.300000 NaN  129.900000 NaN  134.913401  (P)  \n",
      "21 NaN         NaN NaN         NaN NaN         NaN  NaN  \n",
      "22 NaN  120.608333 NaN  127.300000 NaN  133.782414  (P)  \n",
      "23 NaN         NaN NaN         NaN NaN         NaN  NaN  \n",
      "24 NaN         NaN NaN         NaN NaN         NaN  NaN  \n",
      "25 NaN         NaN NaN         NaN NaN         NaN  NaN  \n",
      "26 NaN  122.900000 NaN  124.600000 NaN       135.1  NaN  \n",
      "27 NaN  122.100000 NaN  125.000000 NaN       137.1  NaN  \n",
      "28 NaN  121.600000 NaN  125.900000 NaN       139.1  NaN  \n",
      "29 NaN  120.700000 NaN  129.400000 NaN       141.3  NaN  \n",
      "30 NaN  120.700000 NaN  132.000000 NaN       142.5  NaN  \n",
      "31 NaN  120.700000 NaN  133.800000 NaN       143.5  NaN  \n",
      "32 NaN  120.700000 NaN  133.100000 NaN       143.4  NaN  \n",
      "33 NaN  120.900000 NaN  132.800000 NaN       143.6  NaN  \n",
      "34 NaN  121.800000 NaN  132.900000 NaN  143.545908  NaN  \n",
      "35 NaN  123.500000 NaN  132.500000 NaN       142.8  (P)  \n",
      "36 NaN  125.300000 NaN  132.300000 NaN       143.2  (P)  \n",
      "37 NaN  125.000000 NaN  132.300000 NaN  142.688323  (P)  \n",
      "38 NaN         NaN NaN         NaN NaN         NaN  NaN  \n",
      "39 NaN  122.158333 NaN  130.550000 NaN  141.486186  (P)  \n",
      "40 NaN         NaN NaN         NaN NaN         NaN  NaN  \n",
      "41 NaN         NaN NaN         NaN NaN         NaN  NaN  \n",
      "42 NaN         NaN NaN         NaN NaN         NaN  NaN  \n",
      "43 NaN  122.100000 NaN  125.200000 NaN       134.3  NaN  \n",
      "44 NaN  122.000000 NaN  126.100000 NaN       135.7  NaN  \n",
      "45 NaN  121.600000 NaN  126.400000 NaN       136.7  NaN  \n",
      "46 NaN  121.200000 NaN  128.400000 NaN       137.6  NaN  \n",
      "47 NaN  121.000000 NaN  131.000000 NaN       138.5  NaN  \n",
      "48 NaN  120.700000 NaN  132.200000 NaN       139.6  NaN  \n",
      "49 NaN  120.600000 NaN  132.900000 NaN       140.4  NaN  \n",
      "50 NaN  121.700000 NaN  133.400000 NaN       141.2  NaN  \n",
      "51 NaN  122.800000 NaN  133.700000 NaN  140.890872  NaN  \n",
      "52 NaN  123.900000 NaN  133.700000 NaN       140.8  (P)  \n",
      "53 NaN  125.200000 NaN  134.200000 NaN       140.8  (P)  \n",
      "54 NaN  125.000000 NaN  133.800000 NaN  140.347687  (P)  \n",
      "55 NaN         NaN NaN         NaN NaN         NaN  NaN  \n",
      "56 NaN  122.316667 NaN  130.916667 NaN  138.903213  (P)  \n",
      "57 NaN         NaN NaN         NaN NaN         NaN  NaN  \n",
      "58 NaN         NaN NaN         NaN NaN         NaN  NaN  \n",
      "59 NaN         NaN NaN         NaN NaN         NaN  NaN  \n",
      "60 NaN  122.500000 NaN  124.600000 NaN       134.2  NaN  \n",
      "61 NaN  122.000000 NaN  125.200000 NaN       135.9  NaN  \n",
      "62 NaN  121.600000 NaN  125.900000 NaN       137.4  NaN  \n",
      "63 NaN  121.000000 NaN  128.500000 NaN       139.2  NaN  \n",
      "64 NaN  120.900000 NaN  131.000000 NaN       140.2  NaN  \n",
      "65 NaN  120.700000 NaN  132.600000 NaN       141.3  NaN  \n",
      "66 NaN  120.600000 NaN  132.400000 NaN       141.5  NaN  \n",
      "67 NaN  121.100000 NaN  132.500000 NaN       141.9  NaN  \n",
      "68 NaN  122.100000 NaN  132.500000 NaN  141.723866  NaN  \n"
     ]
    }
   ],
   "source": [
    "# Link for downloading\n",
    "url_9_4 = 'https://www.gov.uk/government/uploads/system/uploads/attachment_data/file/16051/Building_materials_and_components_-_January_2012.xls'\n",
    "\n",
    "# Downloading data\n",
    "df_9_4_raw = get_xls_time_series(url_9_4, \"Table 1\")\n",
    "print(df_9_4_raw.iloc[9:-10, :])\n",
    "\n",
    "# Saving data\n",
    "df_9_4.to_csv('df_9_4_raw.csv', index=False)"
   ]
  },
  {
   "cell_type": "markdown",
   "id": "42fc5019-65c2-4c17-929b-ba5daa891993",
   "metadata": {},
   "source": [
    "#### Indicator 10: Number of construction firms\n",
    "\n",
    "- Source: Office for National Statistics (ONS)\n",
    "- Frequency: annually\n",
    "- Coverage: 1997 - 2023\n",
    "- Release date: 22-Nov-2024\n",
    "- Next release: unknown"
   ]
  },
  {
   "cell_type": "code",
   "execution_count": 274,
   "id": "b8e3f2f2-401e-4fe2-bb9b-ee4256f7d713",
   "metadata": {},
   "outputs": [
    {
     "name": "stdout",
     "output_type": "stream",
     "text": [
      "      0      1      2      3      4      5      6      7      8      9   ...  \\\n",
      "9    2-3  47644  47918  49350  48773  50653  50306  53022  55027  57320  ...   \n",
      "10   4-7  15737  16391  16969  16584  22455  23963  25704  26865  28435  ...   \n",
      "11  8-13   3787   3988   4148   3790   8044   9819  10508  10982  11599  ...   \n",
      "\n",
      "         18       19       20       21       22       23       24        25  \\\n",
      "9   66135.0  72128.0  76845.0  82783.0  88297.0  91843.0  94651.0  100218.0   \n",
      "10  29142.0  30855.0  32339.0  33933.0  35434.0  36071.0  36725.0   38353.0   \n",
      "11  11455.0  11923.0  12255.0  12665.0  12890.0  12908.0  13269.0   13509.0   \n",
      "\n",
      "          26        27  \n",
      "9   103938.0  103337.0  \n",
      "10   41044.0   40345.0  \n",
      "11   14378.0   14283.0  \n",
      "\n",
      "[3 rows x 28 columns]\n"
     ]
    }
   ],
   "source": [
    "# Link for downloading\n",
    "url_10 = 'https://www.ons.gov.uk/file?uri=/businessindustryandtrade/constructionindustry/datasets/constructionstatisticsannualtables/2023/csatablesaccessiblefinal.xlsx'\n",
    "\n",
    "# Downloading data\n",
    "df_10_raw = get_xls_time_series(url_10, \"Table 3.1\")\n",
    "print(df_10_raw.iloc[9:-10, :])\n",
    "\n",
    "# Saving data\n",
    "df_10.to_csv('df_10_raw.csv', index=False)"
   ]
  },
  {
   "cell_type": "code",
   "execution_count": 275,
   "id": "badecf27-a4c8-4af5-bbe8-5bfb15dd9aed",
   "metadata": {},
   "outputs": [
    {
     "name": "stdout",
     "output_type": "stream",
     "text": [
      "<class 'pandas.core.frame.DataFrame'>\n",
      "RangeIndex: 22 entries, 0 to 21\n",
      "Data columns (total 28 columns):\n",
      " #   Column  Non-Null Count  Dtype  \n",
      "---  ------  --------------  -----  \n",
      " 0   0       22 non-null     object \n",
      " 1   1       16 non-null     object \n",
      " 2   2       16 non-null     object \n",
      " 3   3       16 non-null     object \n",
      " 4   4       16 non-null     object \n",
      " 5   5       16 non-null     object \n",
      " 6   6       16 non-null     object \n",
      " 7   7       16 non-null     object \n",
      " 8   8       16 non-null     object \n",
      " 9   9       16 non-null     object \n",
      " 10  10      16 non-null     object \n",
      " 11  11      16 non-null     object \n",
      " 12  12      16 non-null     object \n",
      " 13  13      16 non-null     object \n",
      " 14  14      16 non-null     float64\n",
      " 15  15      16 non-null     float64\n",
      " 16  16      16 non-null     float64\n",
      " 17  17      16 non-null     float64\n",
      " 18  18      16 non-null     float64\n",
      " 19  19      16 non-null     float64\n",
      " 20  20      16 non-null     float64\n",
      " 21  21      16 non-null     float64\n",
      " 22  22      16 non-null     float64\n",
      " 23  23      16 non-null     float64\n",
      " 24  24      16 non-null     float64\n",
      " 25  25      16 non-null     float64\n",
      " 26  26      16 non-null     float64\n",
      " 27  27      16 non-null     float64\n",
      "dtypes: float64(14), object(14)\n",
      "memory usage: 4.9+ KB\n"
     ]
    }
   ],
   "source": [
    "df_10_raw.info()"
   ]
  },
  {
   "cell_type": "markdown",
   "id": "667c2022-9c6d-4487-811b-114749cea7d9",
   "metadata": {},
   "source": [
    "#### Indicator 11: Number of employees in the construction sector\n",
    "\n",
    "- Source: Office for National Statistics (ONS)\n",
    "- Frequency: annually\n",
    "- Coverage: 1997 - 2023\n",
    "- Release date: 22-Nov-2024\n",
    "- Next release: unknown\n",
    "- Employees by businesses classified to construction  - 3rd quarter each year: thousands"
   ]
  },
  {
   "cell_type": "code",
   "execution_count": 276,
   "id": "a56b46f5-dca1-4895-ba68-4fae309b531b",
   "metadata": {},
   "outputs": [
    {
     "name": "stdout",
     "output_type": "stream",
     "text": [
      "                0      1      2      3      4      5      6       7       8   \\\n",
      "9             8-13   39.7   41.6   48.0   45.3   93.7  106.7   112.6    99.9   \n",
      "10           14-24   56.0   59.5   63.2   65.7   97.9  103.6   104.2    99.7   \n",
      "11           25-34   34.5   35.1   36.0   40.2   58.6   47.7    56.5    52.8   \n",
      "12           35-59   51.9   56.6   58.1   53.7   62.6   78.8    82.7    99.5   \n",
      "13           60-79   27.1   28.8   29.3   28.1   28.8   29.0    37.7    36.0   \n",
      "14          80-114   28.3   30.9   31.7   29.2   32.2   37.6    45.5    43.8   \n",
      "15         115-299   68.1   71.1   78.5   68.8   80.9   87.6   100.7    93.4   \n",
      "16         300-599   45.5   52.1   47.3   43.9   47.0   47.2    60.0    57.6   \n",
      "17       600-1,199   50.8   49.1   51.6   50.4   44.5   49.3    61.9    54.2   \n",
      "18  1,200 and over   76.3   82.0   92.3   76.0   98.4  120.7   165.0   149.6   \n",
      "19       All firms  778.5  813.6  958.8  945.9  972.6  989.9  1142.8  1074.1   \n",
      "\n",
      "        9   ...      18      19      20      21        22      23      24  \\\n",
      "9    110.2  ...   113.2   116.9   119.9   123.8   125.672   125.5   129.1   \n",
      "10   114.5  ...   106.2   109.4   109.9   111.5   113.282   114.1   116.3   \n",
      "11    59.9  ...    50.8    50.0    53.4    54.7    56.071    55.4    56.4   \n",
      "12    86.5  ...    77.1    81.4    81.4    83.2    85.779    85.3    85.0   \n",
      "13    39.9  ...    35.6    35.0    36.5    37.1    37.850    37.6    39.9   \n",
      "14    46.5  ...    38.0    40.6    43.4    44.9    44.255    41.5    41.5   \n",
      "15   106.1  ...    84.6    87.7    89.2    96.5    98.529   101.2   100.8   \n",
      "16    65.7  ...    56.7    57.8    59.1    59.9    59.563    60.8    58.8   \n",
      "17    58.7  ...    39.4    46.5    46.5    49.2    45.428    46.1    46.7   \n",
      "18   154.5  ...   157.6   166.5   176.4   172.9   179.082   179.3   171.1   \n",
      "19  1169.0  ...  1151.0  1218.9  1274.7  1323.5  1359.920  1378.4  1390.5   \n",
      "\n",
      "        25      26      27  \n",
      "9    131.0   139.2   138.4  \n",
      "10   116.6   124.3   128.7  \n",
      "11    58.0    60.2    56.7  \n",
      "12    81.7    82.4    83.3  \n",
      "13    41.0    42.1    40.5  \n",
      "14    41.4    40.8    40.2  \n",
      "15    94.9    96.6    98.4  \n",
      "16    51.0    50.8    52.1  \n",
      "17    44.5    48.7    47.2  \n",
      "18   161.6   155.9   164.0  \n",
      "19  1391.1  1436.7  1439.1  \n",
      "\n",
      "[11 rows x 28 columns]\n"
     ]
    }
   ],
   "source": [
    "# Link for downloading\n",
    "url_11 = 'https://www.ons.gov.uk/file?uri=/businessindustryandtrade/constructionindustry/datasets/constructionstatisticsannualtables/2023/csatablesaccessiblefinal.xlsx'\n",
    "\n",
    "# Downloading data\n",
    "df_11_raw = get_xls_time_series(url_11, \"Table 3.4\")\n",
    "print(df_11_raw.iloc[9:, :])\n",
    "\n",
    "# Saving data\n",
    "df_11.to_csv('df_11_raw.csv', index=False)"
   ]
  },
  {
   "cell_type": "markdown",
   "id": "6a5545fb-c8df-474a-968f-39be30a54619",
   "metadata": {},
   "source": [
    "#### Indicator 12: Number and value of new construction contracts/orders\n",
    "- Source: Office for National Statistics (ONS)\n",
    "- Frequency: annually, quarterly\n",
    "- Coverage: 1964 Q1 - 2025 Q1\n",
    "- Release date: 15-May-2025\n",
    "- Next release: 14-Aug-2025\n",
    "- Seasonally adjusted data\n",
    "- £ million"
   ]
  },
  {
   "cell_type": "code",
   "execution_count": 277,
   "id": "d250334e-2d27-4d1b-8090-777ee6b434e6",
   "metadata": {},
   "outputs": [
    {
     "name": "stdout",
     "output_type": "stream",
     "text": [
      "                  0      1      2      3     4      5      6      7      8   \\\n",
      "9               1968  14992  25488  40480   NaN  22072  10244   9626  41942   \n",
      "10              1969  11188  21315  32503   NaN  21375  11043  10024  42442   \n",
      "11              1970  11079  22312  33391   NaN  19554  10339  11591  41484   \n",
      "12              1971   9322  25603  34925   NaN  23656   7447  14275  45378   \n",
      "13              1972   9815  30499  40314   NaN  24731   7449  14371  46551   \n",
      "..               ...    ...    ...    ...   ...    ...    ...    ...    ...   \n",
      "296  Jul to Sep 2021    431   3589   4020  1655   1469   1498   3276   7898   \n",
      "297  Oct to Dec 2021    323   3515   3838  2184   1521   2139   3908   9752   \n",
      "298  Jan to Mar 2022    337   3414   3750  2378   1307   1350   4059   9094   \n",
      "299  Apr to Jun 2022    375   3251   3626  2455   1464   1540   2903   8362   \n",
      "300  Jul to Sep 2022    301   3152   3453  2603   1504   1642   3880   9629   \n",
      "\n",
      "        9      10     11  \n",
      "9    82422 -0.096    NaN  \n",
      "10   74945 -0.091    NaN  \n",
      "11   74875 -0.001    NaN  \n",
      "12   80303  0.072    NaN  \n",
      "13   86865  0.082    NaN  \n",
      "..     ...    ...    ...  \n",
      "296  11918 -0.127   0.09  \n",
      "297  13590   0.14  0.372  \n",
      "298  12844 -0.055  0.151  \n",
      "299  11987 -0.067 -0.122  \n",
      "300  13081  0.091  0.098  \n",
      "\n",
      "[292 rows x 12 columns]\n"
     ]
    }
   ],
   "source": [
    "# Link for downloading\n",
    "url_12 = 'https://www.ons.gov.uk/file?uri=/businessindustryandtrade/constructionindustry/datasets/newordersintheconstructionindustry/current/bulletindataset7.xlsx'\n",
    "\n",
    "# Downloading data\n",
    "df_12_raw = get_xls_time_series(url_12, \"Table 2\")\n",
    "print(df_12_raw.iloc[9:-10, :])\n",
    "\n",
    "# Saving data\n",
    "df_12.to_csv('df_12_raw.csv', index=False)"
   ]
  },
  {
   "cell_type": "markdown",
   "id": "da6ae452-04c3-4374-b01c-06a2adfee125",
   "metadata": {},
   "source": [
    "### 4. Conclusion\n",
    "Time-series data for 12 indicators were successfully collected from ONS, BoE, and other sources, covering 2005–2025. Using Python libraries (pandas, requests, ezodf), data in CSV, ODS, and XLS formats were retrieved and prepared for preprocessing. This phase ensures a robust dataset for analyzing macroeconomic impacts on the UK construction sector, with the next step involving data cleaning and standardization."
   ]
  },
  {
   "cell_type": "markdown",
   "id": "01de8391-dea6-477d-a08a-a507137cc32b",
   "metadata": {},
   "source": [
    "### Authors\n"
   ]
  },
  {
   "attachments": {},
   "cell_type": "markdown",
   "id": "0ca9b4e4-9308-4449-9153-9321d12b6058",
   "metadata": {},
   "source": [
    "[Alisa Makhonina](https://www.linkedin.com/in/alisa-makhonina-data-science/) Data scientist with over 8 years of experience in construction cost engineering. Structural Engineering graduate."
   ]
  }
 ],
 "metadata": {
  "kernelspec": {
   "display_name": "Python [conda env:base] *",
   "language": "python",
   "name": "conda-base-py"
  },
  "language_info": {
   "codemirror_mode": {
    "name": "ipython",
    "version": 3
   },
   "file_extension": ".py",
   "mimetype": "text/x-python",
   "name": "python",
   "nbconvert_exporter": "python",
   "pygments_lexer": "ipython3",
   "version": "3.13.5"
  }
 },
 "nbformat": 4,
 "nbformat_minor": 5
}
