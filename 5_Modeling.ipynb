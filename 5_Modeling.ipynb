{
 "cells": [
  {
   "cell_type": "markdown",
   "id": "f1a368b4-eb7c-4106-befb-f4969a79584a",
   "metadata": {},
   "source": [
    "*This study was conducted for skills demonstration purposes only*"
   ]
  },
  {
   "cell_type": "markdown",
   "id": "d178991f-7adc-4200-98ff-542025f12f28",
   "metadata": {},
   "source": [
    "# **Forecasting the UK Construction Sector with Macroeconomic Indicators**\n",
    "# Section 5. Modeling"
   ]
  },
  {
   "cell_type": "markdown",
   "id": "253cc931-413e-440f-9890-f06ada2bc609",
   "metadata": {},
   "source": [
    "# This Section is under development"
   ]
  },
  {
   "cell_type": "code",
   "execution_count": null,
   "id": "5a5ea6d3-c076-431c-a987-6859600acd61",
   "metadata": {},
   "outputs": [],
   "source": []
  }
 ],
 "metadata": {
  "kernelspec": {
   "display_name": "Python [conda env:base] *",
   "language": "python",
   "name": "conda-base-py"
  },
  "language_info": {
   "codemirror_mode": {
    "name": "ipython",
    "version": 3
   },
   "file_extension": ".py",
   "mimetype": "text/x-python",
   "name": "python",
   "nbconvert_exporter": "python",
   "pygments_lexer": "ipython3",
   "version": "3.13.5"
  }
 },
 "nbformat": 4,
 "nbformat_minor": 5
}
